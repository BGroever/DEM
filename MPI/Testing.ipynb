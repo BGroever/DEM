{
 "cells": [
  {
   "cell_type": "code",
   "execution_count": 26,
   "metadata": {},
   "outputs": [
    {
     "data": {
      "image/png": "[encoded data removed]",
      "text/plain": [
       "<Figure size 432x288 with 1 Axes>"
      ]
     },
     "metadata": {
      "needs_background": "light"
     },
     "output_type": "display_data"
    }
   ],
   "source": [
    "import matplotlib.pyplot as plt\n",
    "import numpy as np\n",
    "import matplotlib.image as mpimg\n",
    "from skimage import io\n",
    "import matplotlib.pyplot as plt\n",
    "import sys\n",
    "import math\n",
    "\n",
    "img = mpimg.imread('usa_vs.png')\n",
    "#img = img[:40,:int(172/3),:]\n",
    "#img[40,:,:] = 0\n",
    "#img[:,57,:] = 0\n",
    "#img[:,114,:] = 0\n",
    "\n",
    "#io.imsave(\"dens_eq.png\", img)\n",
    "imgplot = plt.imshow(img)\n",
    "plt.show();"
   ]
  },
  {
   "cell_type": "code",
   "execution_count": 2,
   "metadata": {},
   "outputs": [
    {
     "name": "stdout",
     "output_type": "stream",
     "text": [
      "N=1: 1x1, idle: 0 \n",
      "N=2: 1x2, idle: 0 \n",
      "N=3: 1x3, idle: 0 \n",
      "N=4: 2x2, idle: 0 \n",
      "N=5: 2x2, idle: 1 \n",
      "N=6: 2x3, idle: 0 \n",
      "N=7: 2x3, idle: 1 \n",
      "N=8: 2x4, idle: 0 \n",
      "N=9: 3x3, idle: 0 \n",
      "N=10: 3x3, idle: 1 \n",
      "N=11: 3x3, idle: 2 \n",
      "N=12: 3x4, idle: 0 \n",
      "N=13: 3x4, idle: 1 \n",
      "N=14: 3x4, idle: 2 \n",
      "N=15: 3x5, idle: 0 \n",
      "N=16: 4x4, idle: 0 \n",
      "N=17: 4x4, idle: 1 \n",
      "N=18: 4x4, idle: 2 \n",
      "N=19: 4x4, idle: 3 \n"
     ]
    }
   ],
   "source": [
    "for N in range(1,20):\n",
    "    size_x = math.floor(np.sqrt(N))\n",
    "    print(\"N=%d: %dx%d, idle: %d \" %(N, size_x, math.floor(N/size_x), N % size_x))"
   ]
  },
  {
   "cell_type": "code",
   "execution_count": 3,
   "metadata": {},
   "outputs": [
    {
     "name": "stdout",
     "output_type": "stream",
     "text": [
      "7 8\n",
      "0 357 357 357 357 374 374 374 374 \n",
      "1 357 357 357 357 374 374 374 374 \n",
      "2 357 357 357 357 374 374 374 374 \n",
      "3 357 357 357 357 374 374 374 374 \n",
      "4 357 357 357 357 374 374 374 374 \n",
      "5 357 357 357 357 374 374 374 374 \n",
      "6 378 378 378 378 396 396 396 396 \n",
      "120 172\n",
      "120 172\n"
     ]
    },
    {
     "data": {
      "image/png": "[encoded data removed]",
      "text/plain": [
       "<Figure size 432x288 with 1 Axes>"
      ]
     },
     "metadata": {
      "needs_background": "light"
     },
     "output_type": "display_data"
    }
   ],
   "source": [
    "size = 60\n",
    "m,n,z = img.shape\n",
    "size_m = math.floor(np.sqrt(size))\n",
    "size_n = math.floor(size/size_m)\n",
    "print(size_m, size_n)\n",
    "    \n",
    "stepm = int(math.floor(m/size_m))\n",
    "stepn = int(math.floor(n/size_n))\n",
    "\n",
    "check = np.zeros((m,n,3))\n",
    "    \n",
    "for rank_m in range(size_m):\n",
    "    print(rank_m, end =\" \")\n",
    "    for rank_n in range(size_n):\n",
    "        e_startm = (m % size_m)-(size_m-rank_m)   if (m % size_m > size_m-rank_m)   else 0\n",
    "        e_startn = (n % size_n)-(size_n-rank_n)   if (n % size_n > size_n-rank_n)   else 0\n",
    "        e_endm   = (m % size_m)-(size_m-rank_m-1) if (m % size_m > size_m-rank_m-1) else 0\n",
    "        e_endn   = (n % size_n)-(size_n-rank_n-1) if (n % size_n > size_n-rank_n-1) else 0\n",
    "        \n",
    "        startm = rank_m*stepm     + e_startm\n",
    "        startn = rank_n*stepn     + e_startn  \n",
    "        endm   = (rank_m+1)*stepm + e_endm\n",
    "        endn   = (rank_n+1)*stepn + e_endn\n",
    "        \n",
    "        for i in range(startm,endm):\n",
    "            for j in range(startn,endn):\n",
    "                check[i,j,:] = img[i,j,:]\n",
    "        print((endm-startm)*(endn-startn), end =\" \")\n",
    "    print(\"\")\n",
    "    \n",
    "plt.imshow(check);\n",
    "print(m, n)\n",
    "print(endm, endn)"
   ]
  },
  {
   "cell_type": "code",
   "execution_count": 151,
   "metadata": {},
   "outputs": [
    {
     "data": {
      "image/png": "[encoded data removed]",
      "text/plain": [
       "<Figure size 432x288 with 1 Axes>"
      ]
     },
     "metadata": {
      "needs_background": "light"
     },
     "output_type": "display_data"
    }
   ],
   "source": [
    "size = 9\n",
    "size_m = math.floor(np.sqrt(size))\n",
    "size_n = math.floor(size/size_m)\n",
    "\n",
    "stepm = int(math.floor(m/size_m))\n",
    "stepn = int(math.floor(n/size_n))\n",
    "\n",
    "img = mpimg.imread('usa_vs.png')\n",
    "check = np.zeros((m,n,3))\n",
    "\n",
    "for rank in range(size_n*size_m):\n",
    "    rank_n = math.floor(rank/size_m)\n",
    "    rank_m = rank % size_m\n",
    "    \n",
    "    e_startm = (m % size_m)-(size_m-rank_m)   if (m % size_m > size_m-rank_m)   else 0\n",
    "    e_startn = (n % size_n)-(size_n-rank_n)   if (n % size_n > size_n-rank_n)   else 0\n",
    "    e_endm   = (m % size_m)-(size_m-rank_m-1) if (m % size_m > size_m-rank_m-1) else 0\n",
    "    e_endn   = (n % size_n)-(size_n-rank_n-1) if (n % size_n > size_n-rank_n-1) else 0\n",
    "        \n",
    "    startm = rank_m*stepm     + e_startm\n",
    "    startn = rank_n*stepn     + e_startn  \n",
    "    endm   = (rank_m+1)*stepm + e_endm\n",
    "    endn   = (rank_n+1)*stepn + e_endn\n",
    "    \n",
    "    color = np.array([np.random.choice(range(100))/255,0.75+np.random.choice(range(63))/255,np.random.choice(range(100))/255])\n",
    "    for i in range(startm,endm):\n",
    "        for j in range(startn,endn):\n",
    "            check[i,j,:] = color\n",
    "    \n",
    "\n",
    "plt.imshow(check);"
   ]
  },
  {
   "cell_type": "code",
   "execution_count": 148,
   "metadata": {},
   "outputs": [
    {
     "name": "stdout",
     "output_type": "stream",
     "text": [
      "120 172\n",
      "86 172\n"
     ]
    }
   ],
   "source": [
    "print(m, n)\n",
    "print(startn, endn)"
   ]
  },
  {
   "cell_type": "code",
   "execution_count": 152,
   "metadata": {},
   "outputs": [
    {
     "name": "stdout",
     "output_type": "stream",
     "text": [
      "(rank_n != startn) (0, 0) 57\n",
      "(rank_n != startn) (0, 0) 40\n",
      "(0, 40) (0, 57) 57\n",
      "(rank_n != startn) (1, 0) 57\n",
      "(rank_n != 0) (1, 0) 39\n",
      "(rank_n != startn) (1, 0) 80\n",
      "(40, 80) (0, 57) 57\n",
      "(rank_n != startn) (2, 0) 57\n",
      "(rank_n != 0) (2, 0) 79\n",
      "(80, 120) (0, 57) 57\n",
      "(rank_n != 0) (0, 1) 56\n",
      "(rank_n != startn) (0, 1) 114\n",
      "(rank_n != startn) (0, 1) 40\n",
      "(0, 40) (57, 114) 57\n",
      "(rank_n != 0) (1, 1) 56\n",
      "(rank_n != startn) (1, 1) 114\n",
      "(rank_n != 0) (1, 1) 39\n",
      "(rank_n != startn) (1, 1) 80\n",
      "(40, 80) (57, 114) 57\n",
      "(rank_n != 0) (2, 1) 56\n",
      "(rank_n != startn) (2, 1) 114\n",
      "(rank_n != 0) (2, 1) 79\n",
      "(80, 120) (57, 114) 57\n",
      "(rank_n != 0) (0, 2) 113\n",
      "(rank_n != startn) (0, 2) 40\n",
      "(0, 40) (114, 172) 58\n",
      "(rank_n != 0) (1, 2) 113\n",
      "(rank_n != 0) (1, 2) 39\n",
      "(rank_n != startn) (1, 2) 80\n",
      "(40, 80) (114, 172) 58\n",
      "(rank_n != 0) (2, 2) 113\n",
      "(rank_n != 0) (2, 2) 79\n",
      "(80, 120) (114, 172) 58\n"
     ]
    },
    {
     "name": "stderr",
     "output_type": "stream",
     "text": [
      "/home/ben/anaconda3/lib/python3.7/site-packages/skimage/util/dtype.py:130: UserWarning: Possible precision loss when converting from float64 to uint8\n",
      "  .format(dtypeobj_in, dtypeobj_out))\n"
     ]
    },
    {
     "data": {
      "image/png": "[encoded data removed]",
      "text/plain": [
       "<Figure size 432x288 with 1 Axes>"
      ]
     },
     "metadata": {
      "needs_background": "light"
     },
     "output_type": "display_data"
    }
   ],
   "source": [
    "temp = np.copy(check)\n",
    "\n",
    "for rank in range(size_n*size_m):\n",
    "    rank_n = math.floor(rank/size_m)\n",
    "    rank_m = rank % size_m\n",
    "    \n",
    "    e_startm = (m % size_m)-(size_m-rank_m)   if (m % size_m > size_m-rank_m)   else 0\n",
    "    e_startn = (n % size_n)-(size_n-rank_n)   if (n % size_n > size_n-rank_n)   else 0\n",
    "    e_endm   = (m % size_m)-(size_m-rank_m-1) if (m % size_m > size_m-rank_m-1) else 0\n",
    "    e_endn   = (n % size_n)-(size_n-rank_n-1) if (n % size_n > size_n-rank_n-1) else 0\n",
    "        \n",
    "    startm = rank_m*stepm     + e_startm\n",
    "    startn = rank_n*stepn     + e_startn  \n",
    "    endm   = (rank_m+1)*stepm + e_endm\n",
    "    endn   = (rank_n+1)*stepn + e_endn\n",
    "    \n",
    "    #receive data from left\n",
    "    if(rank_n != 0):\n",
    "        temp[startm:endm,startn-1,:] = np.array([1,0,0])\n",
    "        print(\"(rank_n != 0)\", (rank_m,rank_n), startn-1)\n",
    "    if(rank_n != size_n-1):\n",
    "        temp[startm:endm,endn,:] = np.array([0,0,0])\n",
    "        print(\"(rank_n != startn)\", (rank_m,rank_n), endn)\n",
    "    if(rank_m != 0):\n",
    "        temp[startm-1,startn:endn,:] = np.array([0,0,1])\n",
    "        print(\"(rank_n != 0)\", (rank_m,rank_n), startm-1)\n",
    "    if(rank_m != size_m-1):\n",
    "        temp[endm,startn:endn,:] = np.array([1,1,1])\n",
    "        print(\"(rank_n != startn)\", (rank_m,rank_n), endm)\n",
    "        \n",
    "    print((startm,endm), (startn,endn), endn-startn)\n",
    "        \n",
    "plt.imshow(temp);\n",
    "io.imsave(\"dens_eq.png\",temp);\n",
    "io.imsave(\"check.png\",check);"
   ]
  },
  {
   "cell_type": "code",
   "execution_count": 139,
   "metadata": {},
   "outputs": [
    {
     "data": {
      "text/plain": [
       "3"
      ]
     },
     "execution_count": 139,
     "metadata": {},
     "output_type": "execute_result"
    }
   ],
   "source": [
    "size_n"
   ]
  },
  {
   "cell_type": "code",
   "execution_count": 140,
   "metadata": {},
   "outputs": [
    {
     "data": {
      "text/plain": [
       "172"
      ]
     },
     "execution_count": 140,
     "metadata": {},
     "output_type": "execute_result"
    }
   ],
   "source": [
    "endn"
   ]
  },
  {
   "cell_type": "code",
   "execution_count": 141,
   "metadata": {},
   "outputs": [
    {
     "name": "stdout",
     "output_type": "stream",
     "text": [
      "0 0 0 0\n",
      "1 1 0 1\n",
      "2 2 0 2\n"
     ]
    }
   ],
   "source": [
    "for rank in range(size_n*size_m):\n",
    "    rank_n = math.floor(rank/size_m)\n",
    "    rank_m = rank % size_m\n",
    "    print(rank, rank_n, rank_m, rank_n*(size_m)+rank_m)"
   ]
  },
  {
   "cell_type": "code",
   "execution_count": 137,
   "metadata": {},
   "outputs": [
    {
     "data": {
      "text/plain": [
       "array([[0.        , 0.        , 0.        ],\n",
       "       [0.16078431, 0.84019608, 0.33333333],\n",
       "       [0.16078431, 0.84019608, 0.33333333],\n",
       "       [0.16078431, 0.84019608, 0.33333333],\n",
       "       [0.16078431, 0.84019608, 0.33333333],\n",
       "       [0.16078431, 0.84019608, 0.33333333],\n",
       "       [0.16078431, 0.84019608, 0.33333333],\n",
       "       [0.16078431, 0.84019608, 0.33333333],\n",
       "       [0.16078431, 0.84019608, 0.33333333],\n",
       "       [0.16078431, 0.84019608, 0.33333333],\n",
       "       [0.16078431, 0.84019608, 0.33333333],\n",
       "       [0.16078431, 0.84019608, 0.33333333],\n",
       "       [0.16078431, 0.84019608, 0.33333333],\n",
       "       [0.16078431, 0.84019608, 0.33333333],\n",
       "       [0.16078431, 0.84019608, 0.33333333],\n",
       "       [0.16078431, 0.84019608, 0.33333333],\n",
       "       [0.16078431, 0.84019608, 0.33333333],\n",
       "       [0.16078431, 0.84019608, 0.33333333],\n",
       "       [0.16078431, 0.84019608, 0.33333333],\n",
       "       [0.16078431, 0.84019608, 0.33333333],\n",
       "       [0.16078431, 0.84019608, 0.33333333],\n",
       "       [0.16078431, 0.84019608, 0.33333333],\n",
       "       [0.16078431, 0.84019608, 0.33333333],\n",
       "       [0.16078431, 0.84019608, 0.33333333],\n",
       "       [0.16078431, 0.84019608, 0.33333333],\n",
       "       [0.16078431, 0.84019608, 0.33333333],\n",
       "       [0.16078431, 0.84019608, 0.33333333],\n",
       "       [0.16078431, 0.84019608, 0.33333333],\n",
       "       [0.16078431, 0.84019608, 0.33333333],\n",
       "       [0.16078431, 0.84019608, 0.33333333],\n",
       "       [0.16078431, 0.84019608, 0.33333333],\n",
       "       [0.16078431, 0.84019608, 0.33333333],\n",
       "       [0.16078431, 0.84019608, 0.33333333],\n",
       "       [0.16078431, 0.84019608, 0.33333333],\n",
       "       [0.16078431, 0.84019608, 0.33333333],\n",
       "       [0.16078431, 0.84019608, 0.33333333],\n",
       "       [0.16078431, 0.84019608, 0.33333333],\n",
       "       [0.16078431, 0.84019608, 0.33333333],\n",
       "       [0.16078431, 0.84019608, 0.33333333],\n",
       "       [0.16078431, 0.84019608, 0.33333333],\n",
       "       [0.16078431, 0.84019608, 0.33333333],\n",
       "       [0.16078431, 0.84019608, 0.33333333],\n",
       "       [0.16078431, 0.84019608, 0.33333333],\n",
       "       [0.16078431, 0.84019608, 0.33333333],\n",
       "       [0.16078431, 0.84019608, 0.33333333],\n",
       "       [0.16078431, 0.84019608, 0.33333333],\n",
       "       [0.16078431, 0.84019608, 0.33333333],\n",
       "       [0.16078431, 0.84019608, 0.33333333],\n",
       "       [0.16078431, 0.84019608, 0.33333333],\n",
       "       [0.16078431, 0.84019608, 0.33333333],\n",
       "       [0.16078431, 0.84019608, 0.33333333],\n",
       "       [0.16078431, 0.84019608, 0.33333333],\n",
       "       [0.16078431, 0.84019608, 0.33333333],\n",
       "       [0.16078431, 0.84019608, 0.33333333],\n",
       "       [0.16078431, 0.84019608, 0.33333333],\n",
       "       [0.16078431, 0.84019608, 0.33333333],\n",
       "       [0.16078431, 0.84019608, 0.33333333],\n",
       "       [0.16078431, 0.84019608, 0.33333333]])"
      ]
     },
     "execution_count": 137,
     "metadata": {},
     "output_type": "execute_result"
    }
   ],
   "source": [
    "temp[119,startn:endn,:]"
   ]
  },
  {
   "cell_type": "code",
   "execution_count": null,
   "metadata": {},
   "outputs": [],
   "source": []
  }
 ],
 "metadata": {
  "kernelspec": {
   "display_name": "Python 3",
   "language": "python",
   "name": "python3"
  },
  "language_info": {
   "codemirror_mode": {
    "name": "ipython",
    "version": 3
   },
   "file_extension": ".py",
   "mimetype": "text/x-python",
   "name": "python",
   "nbconvert_exporter": "python",
   "pygments_lexer": "ipython3",
   "version": "3.7.2"
  }
 },
 "nbformat": 4,
 "nbformat_minor": 2
}
